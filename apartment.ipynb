{
 "cells": [
  {
   "cell_type": "code",
   "execution_count": 31,
   "id": "2e765c96-ffe0-4b5d-803f-217c686cc3ea",
   "metadata": {},
   "outputs": [],
   "source": [
    "library(tidyverse)"
   ]
  },
  {
   "cell_type": "code",
   "execution_count": 32,
   "id": "f65fcd35-b33e-474b-9e08-0dbd79cb37e7",
   "metadata": {},
   "outputs": [
    {
     "name": "stderr",
     "output_type": "stream",
     "text": [
      "\u001b[36mℹ\u001b[39m Using \u001b[34m\u001b[34m\"','\"\u001b[34m\u001b[39m as decimal and \u001b[34m\u001b[34m\"'.'\"\u001b[34m\u001b[39m as grouping mark. Use `read_delim()` for more control.\n",
      "\n",
      "\u001b[1mRows: \u001b[22m\u001b[34m10000\u001b[39m \u001b[1mColumns: \u001b[22m\u001b[34m22\u001b[39m\n",
      "\u001b[36m──\u001b[39m \u001b[1mColumn specification\u001b[22m \u001b[36m────────────────────────────────────────────────────────\u001b[39m\n",
      "\u001b[1mDelimiter:\u001b[22m \";\"\n",
      "\u001b[31mchr\u001b[39m (18): category, title, body, amenities, bathrooms, bedrooms, currency, f...\n",
      "\u001b[32mdbl\u001b[39m  (4): id, price, square_feet, time\n",
      "\n",
      "\u001b[36mℹ\u001b[39m Use `spec()` to retrieve the full column specification for this data.\n",
      "\u001b[36mℹ\u001b[39m Specify the column types or set `show_col_types = FALSE` to quiet this message.\n"
     ]
    },
    {
     "data": {
      "text/html": [
       "<table class=\"dataframe\">\n",
       "<caption>A tibble: 6 × 22</caption>\n",
       "<thead>\n",
       "\t<tr><th scope=col>id</th><th scope=col>category</th><th scope=col>title</th><th scope=col>body</th><th scope=col>amenities</th><th scope=col>bathrooms</th><th scope=col>bedrooms</th><th scope=col>currency</th><th scope=col>fee</th><th scope=col>has_photo</th><th scope=col>⋯</th><th scope=col>price_display</th><th scope=col>price_type</th><th scope=col>square_feet</th><th scope=col>address</th><th scope=col>cityname</th><th scope=col>state</th><th scope=col>latitude</th><th scope=col>longitude</th><th scope=col>source</th><th scope=col>time</th></tr>\n",
       "\t<tr><th scope=col>&lt;dbl&gt;</th><th scope=col>&lt;chr&gt;</th><th scope=col>&lt;chr&gt;</th><th scope=col>&lt;chr&gt;</th><th scope=col>&lt;chr&gt;</th><th scope=col>&lt;chr&gt;</th><th scope=col>&lt;chr&gt;</th><th scope=col>&lt;chr&gt;</th><th scope=col>&lt;chr&gt;</th><th scope=col>&lt;chr&gt;</th><th scope=col>⋯</th><th scope=col>&lt;chr&gt;</th><th scope=col>&lt;chr&gt;</th><th scope=col>&lt;dbl&gt;</th><th scope=col>&lt;chr&gt;</th><th scope=col>&lt;chr&gt;</th><th scope=col>&lt;chr&gt;</th><th scope=col>&lt;chr&gt;</th><th scope=col>&lt;chr&gt;</th><th scope=col>&lt;chr&gt;</th><th scope=col>&lt;dbl&gt;</th></tr>\n",
       "</thead>\n",
       "<tbody>\n",
       "\t<tr><td>5668626895</td><td>housing/rent/apartment</td><td>Studio apartment 2nd St NE, Uhland Terrace NE, Washington, DC 20002</td><td>This unit is located at second St NE, Uhland Terrace NE, Washington, DC 20002, Washington, 20002, DCMonthly rental rates range from $790 - $1090We have studio units available for rent                                                                                                                                                                                                                                                                                                                                                                                                                                                                                                                                                                                                                                                                                                                                                                                    </td><td>null                                       </td><td>null</td><td>0</td><td>USD</td><td>No</td><td>Thumbnail</td><td>⋯</td><td>$790  </td><td>Monthly</td><td>101</td><td>null            </td><td>Washington</td><td>DC</td><td>38.9057</td><td>-76.9861 </td><td>RentLingo</td><td>1577359415</td></tr>\n",
       "\t<tr><td>5664597177</td><td>housing/rent/apartment</td><td>Studio apartment 814 Schutte Road                                  </td><td>This unit is located at 814 Schutte Road, Evansville, 47712, INMonthly rental rates range from $425 - $445We have studio - 1 beds units available for rent                                                                                                                                                                                                                                                                                                                                                                                                                                                                                                                                                                                                                                                                                                                                                                                                                 </td><td>null                                       </td><td>null</td><td>1</td><td>USD</td><td>No</td><td>Thumbnail</td><td>⋯</td><td>$425  </td><td>Monthly</td><td>106</td><td>814 Schutte Rd  </td><td>Evansville</td><td>IN</td><td>37.9680</td><td>-87.6621 </td><td>RentLingo</td><td>1577017063</td></tr>\n",
       "\t<tr><td>5668626833</td><td>housing/rent/apartment</td><td>Studio apartment N Scott St, 14th St N, Arlington, VA 22209        </td><td>This unit is located at N Scott St, 14th St N, Arlington, VA 22209, Arlington, 22209, VAMonthly rental rates range from $1390We have studio units available for rent                                                                                                                                                                                                                                                                                                                                                                                                                                                                                                                                                                                                                                                                                                                                                                                                       </td><td>null                                       </td><td>1   </td><td>0</td><td>USD</td><td>No</td><td>Thumbnail</td><td>⋯</td><td>$1,390</td><td>Monthly</td><td>107</td><td>null            </td><td>Arlington </td><td>VA</td><td>38.8910</td><td>-77.0816 </td><td>RentLingo</td><td>1577359410</td></tr>\n",
       "\t<tr><td>5659918074</td><td>housing/rent/apartment</td><td>Studio apartment 1717 12th Ave                                     </td><td>This unit is located at 1717 12th Ave, Seattle, 98122, WAMonthly rental rates range from $925We have studio units available for rent                                                                                                                                                                                                                                                                                                                                                                                                                                                                                                                                                                                                                                                                                                                                                                                                                                       </td><td>null                                       </td><td>1   </td><td>0</td><td>USD</td><td>No</td><td>Thumbnail</td><td>⋯</td><td>$925  </td><td>Monthly</td><td>116</td><td>1717 12th Avenue</td><td>Seattle   </td><td>WA</td><td>47.6160</td><td>-122.3275</td><td>RentLingo</td><td>1576667743</td></tr>\n",
       "\t<tr><td>5668626759</td><td>housing/rent/apartment</td><td>Studio apartment Washington Blvd, N Cleveland St, Arlington        </td><td>This unit is located at Washington Blvd, N Cleveland St, Arlington, Arlington, 22201, VAMonthly rental rates range from $880We have studio units available for rent                                                                                                                                                                                                                                                                                                                                                                                                                                                                                                                                                                                                                                                                                                                                                                                                        </td><td>null                                       </td><td>null</td><td>0</td><td>USD</td><td>No</td><td>Thumbnail</td><td>⋯</td><td>$880  </td><td>Monthly</td><td>125</td><td>null            </td><td>Arlington </td><td>VA</td><td>38.8738</td><td>-77.1055 </td><td>RentLingo</td><td>1577359401</td></tr>\n",
       "\t<tr><td>5667891676</td><td>housing/rent/apartment</td><td>0 BR in New York NY 10019                                          </td><td>**RARE GEM WITH PRIVATE OUTDOOR TERRACE****AVAILABLE IMMEDIATELY** $2475 RENT IS NET EFFECTIVE WITH one month FREE ON $2700 Monthly rent***Low Fee*UNFURNISHED Spacious and Sunny Southern facing studio (403 sq-ft) with big private terrace (130 sq. feet) basks in natural sunlight all day long, facing the scenic landscaped and peaceful residents ct. yard. The apartment features hard wood floors throughout, a carousel kitchen with new appliances and two big closets. Laundry on floor steps away.Worldwide Plaza is a full-service condo that pampers its residents with concierge and 24-hr attendant at door services, a live-in resident manager, a scenic landscaped court yard and lounge, valet service, 8 laundry rooms (washer and dryers are permitted within the residences), on-site garage and a separate full-service health club (NYSC ELITE) equipped with a 25 meter salt water pool, immersive VR spin cycling room, sauna, steam room, etc.</td><td>Dishwasher,Elevator,Patio/Deck,Pool,Storage</td><td>1   </td><td>0</td><td>USD</td><td>No</td><td>Thumbnail</td><td>⋯</td><td>$2,475</td><td>Monthly</td><td>130</td><td>350 West 50th St</td><td>Manhattan </td><td>NY</td><td>40.7629</td><td>-73.9885 </td><td>Listanza </td><td>1577289784</td></tr>\n",
       "</tbody>\n",
       "</table>\n"
      ],
      "text/latex": [
       "A tibble: 6 × 22\n",
       "\\begin{tabular}{lllllllllllllllllllll}\n",
       " id & category & title & body & amenities & bathrooms & bedrooms & currency & fee & has\\_photo & ⋯ & price\\_display & price\\_type & square\\_feet & address & cityname & state & latitude & longitude & source & time\\\\\n",
       " <dbl> & <chr> & <chr> & <chr> & <chr> & <chr> & <chr> & <chr> & <chr> & <chr> & ⋯ & <chr> & <chr> & <dbl> & <chr> & <chr> & <chr> & <chr> & <chr> & <chr> & <dbl>\\\\\n",
       "\\hline\n",
       "\t 5668626895 & housing/rent/apartment & Studio apartment 2nd St NE, Uhland Terrace NE, Washington, DC 20002 & This unit is located at second St NE, Uhland Terrace NE, Washington, DC 20002, Washington, 20002, DCMonthly rental rates range from \\$790 - \\$1090We have studio units available for rent                                                                                                                                                                                                                                                                                                                                                                                                                                                                                                                                                                                                                                                                                                                                                                                     & null                                        & null & 0 & USD & No & Thumbnail & ⋯ & \\$790   & Monthly & 101 & null             & Washington & DC & 38.9057 & -76.9861  & RentLingo & 1577359415\\\\\n",
       "\t 5664597177 & housing/rent/apartment & Studio apartment 814 Schutte Road                                   & This unit is located at 814 Schutte Road, Evansville, 47712, INMonthly rental rates range from \\$425 - \\$445We have studio - 1 beds units available for rent                                                                                                                                                                                                                                                                                                                                                                                                                                                                                                                                                                                                                                                                                                                                                                                                                  & null                                        & null & 1 & USD & No & Thumbnail & ⋯ & \\$425   & Monthly & 106 & 814 Schutte Rd   & Evansville & IN & 37.9680 & -87.6621  & RentLingo & 1577017063\\\\\n",
       "\t 5668626833 & housing/rent/apartment & Studio apartment N Scott St, 14th St N, Arlington, VA 22209         & This unit is located at N Scott St, 14th St N, Arlington, VA 22209, Arlington, 22209, VAMonthly rental rates range from \\$1390We have studio units available for rent                                                                                                                                                                                                                                                                                                                                                                                                                                                                                                                                                                                                                                                                                                                                                                                                        & null                                        & 1    & 0 & USD & No & Thumbnail & ⋯ & \\$1,390 & Monthly & 107 & null             & Arlington  & VA & 38.8910 & -77.0816  & RentLingo & 1577359410\\\\\n",
       "\t 5659918074 & housing/rent/apartment & Studio apartment 1717 12th Ave                                      & This unit is located at 1717 12th Ave, Seattle, 98122, WAMonthly rental rates range from \\$925We have studio units available for rent                                                                                                                                                                                                                                                                                                                                                                                                                                                                                                                                                                                                                                                                                                                                                                                                                                        & null                                        & 1    & 0 & USD & No & Thumbnail & ⋯ & \\$925   & Monthly & 116 & 1717 12th Avenue & Seattle    & WA & 47.6160 & -122.3275 & RentLingo & 1576667743\\\\\n",
       "\t 5668626759 & housing/rent/apartment & Studio apartment Washington Blvd, N Cleveland St, Arlington         & This unit is located at Washington Blvd, N Cleveland St, Arlington, Arlington, 22201, VAMonthly rental rates range from \\$880We have studio units available for rent                                                                                                                                                                                                                                                                                                                                                                                                                                                                                                                                                                                                                                                                                                                                                                                                         & null                                        & null & 0 & USD & No & Thumbnail & ⋯ & \\$880   & Monthly & 125 & null             & Arlington  & VA & 38.8738 & -77.1055  & RentLingo & 1577359401\\\\\n",
       "\t 5667891676 & housing/rent/apartment & 0 BR in New York NY 10019                                           & **RARE GEM WITH PRIVATE OUTDOOR TERRACE****AVAILABLE IMMEDIATELY** \\$2475 RENT IS NET EFFECTIVE WITH one month FREE ON \\$2700 Monthly rent***Low Fee*UNFURNISHED Spacious and Sunny Southern facing studio (403 sq-ft) with big private terrace (130 sq. feet) basks in natural sunlight all day long, facing the scenic landscaped and peaceful residents ct. yard. The apartment features hard wood floors throughout, a carousel kitchen with new appliances and two big closets. Laundry on floor steps away.Worldwide Plaza is a full-service condo that pampers its residents with concierge and 24-hr attendant at door services, a live-in resident manager, a scenic landscaped court yard and lounge, valet service, 8 laundry rooms (washer and dryers are permitted within the residences), on-site garage and a separate full-service health club (NYSC ELITE) equipped with a 25 meter salt water pool, immersive VR spin cycling room, sauna, steam room, etc. & Dishwasher,Elevator,Patio/Deck,Pool,Storage & 1    & 0 & USD & No & Thumbnail & ⋯ & \\$2,475 & Monthly & 130 & 350 West 50th St & Manhattan  & NY & 40.7629 & -73.9885  & Listanza  & 1577289784\\\\\n",
       "\\end{tabular}\n"
      ],
      "text/markdown": [
       "\n",
       "A tibble: 6 × 22\n",
       "\n",
       "| id &lt;dbl&gt; | category &lt;chr&gt; | title &lt;chr&gt; | body &lt;chr&gt; | amenities &lt;chr&gt; | bathrooms &lt;chr&gt; | bedrooms &lt;chr&gt; | currency &lt;chr&gt; | fee &lt;chr&gt; | has_photo &lt;chr&gt; | ⋯ ⋯ | price_display &lt;chr&gt; | price_type &lt;chr&gt; | square_feet &lt;dbl&gt; | address &lt;chr&gt; | cityname &lt;chr&gt; | state &lt;chr&gt; | latitude &lt;chr&gt; | longitude &lt;chr&gt; | source &lt;chr&gt; | time &lt;dbl&gt; |\n",
       "|---|---|---|---|---|---|---|---|---|---|---|---|---|---|---|---|---|---|---|---|---|\n",
       "| 5668626895 | housing/rent/apartment | Studio apartment 2nd St NE, Uhland Terrace NE, Washington, DC 20002 | This unit is located at second St NE, Uhland Terrace NE, Washington, DC 20002, Washington, 20002, DCMonthly rental rates range from $790 - $1090We have studio units available for rent                                                                                                                                                                                                                                                                                                                                                                                                                                                                                                                                                                                                                                                                                                                                                                                     | null                                        | null | 0 | USD | No | Thumbnail | ⋯ | $790   | Monthly | 101 | null             | Washington | DC | 38.9057 | -76.9861  | RentLingo | 1577359415 |\n",
       "| 5664597177 | housing/rent/apartment | Studio apartment 814 Schutte Road                                   | This unit is located at 814 Schutte Road, Evansville, 47712, INMonthly rental rates range from $425 - $445We have studio - 1 beds units available for rent                                                                                                                                                                                                                                                                                                                                                                                                                                                                                                                                                                                                                                                                                                                                                                                                                  | null                                        | null | 1 | USD | No | Thumbnail | ⋯ | $425   | Monthly | 106 | 814 Schutte Rd   | Evansville | IN | 37.9680 | -87.6621  | RentLingo | 1577017063 |\n",
       "| 5668626833 | housing/rent/apartment | Studio apartment N Scott St, 14th St N, Arlington, VA 22209         | This unit is located at N Scott St, 14th St N, Arlington, VA 22209, Arlington, 22209, VAMonthly rental rates range from $1390We have studio units available for rent                                                                                                                                                                                                                                                                                                                                                                                                                                                                                                                                                                                                                                                                                                                                                                                                        | null                                        | 1    | 0 | USD | No | Thumbnail | ⋯ | $1,390 | Monthly | 107 | null             | Arlington  | VA | 38.8910 | -77.0816  | RentLingo | 1577359410 |\n",
       "| 5659918074 | housing/rent/apartment | Studio apartment 1717 12th Ave                                      | This unit is located at 1717 12th Ave, Seattle, 98122, WAMonthly rental rates range from $925We have studio units available for rent                                                                                                                                                                                                                                                                                                                                                                                                                                                                                                                                                                                                                                                                                                                                                                                                                                        | null                                        | 1    | 0 | USD | No | Thumbnail | ⋯ | $925   | Monthly | 116 | 1717 12th Avenue | Seattle    | WA | 47.6160 | -122.3275 | RentLingo | 1576667743 |\n",
       "| 5668626759 | housing/rent/apartment | Studio apartment Washington Blvd, N Cleveland St, Arlington         | This unit is located at Washington Blvd, N Cleveland St, Arlington, Arlington, 22201, VAMonthly rental rates range from $880We have studio units available for rent                                                                                                                                                                                                                                                                                                                                                                                                                                                                                                                                                                                                                                                                                                                                                                                                         | null                                        | null | 0 | USD | No | Thumbnail | ⋯ | $880   | Monthly | 125 | null             | Arlington  | VA | 38.8738 | -77.1055  | RentLingo | 1577359401 |\n",
       "| 5667891676 | housing/rent/apartment | 0 BR in New York NY 10019                                           | **RARE GEM WITH PRIVATE OUTDOOR TERRACE****AVAILABLE IMMEDIATELY** $2475 RENT IS NET EFFECTIVE WITH one month FREE ON $2700 Monthly rent***Low Fee*UNFURNISHED Spacious and Sunny Southern facing studio (403 sq-ft) with big private terrace (130 sq. feet) basks in natural sunlight all day long, facing the scenic landscaped and peaceful residents ct. yard. The apartment features hard wood floors throughout, a carousel kitchen with new appliances and two big closets. Laundry on floor steps away.Worldwide Plaza is a full-service condo that pampers its residents with concierge and 24-hr attendant at door services, a live-in resident manager, a scenic landscaped court yard and lounge, valet service, 8 laundry rooms (washer and dryers are permitted within the residences), on-site garage and a separate full-service health club (NYSC ELITE) equipped with a 25 meter salt water pool, immersive VR spin cycling room, sauna, steam room, etc. | Dishwasher,Elevator,Patio/Deck,Pool,Storage | 1    | 0 | USD | No | Thumbnail | ⋯ | $2,475 | Monthly | 130 | 350 West 50th St | Manhattan  | NY | 40.7629 | -73.9885  | Listanza  | 1577289784 |\n",
       "\n"
      ],
      "text/plain": [
       "  id         category              \n",
       "1 5668626895 housing/rent/apartment\n",
       "2 5664597177 housing/rent/apartment\n",
       "3 5668626833 housing/rent/apartment\n",
       "4 5659918074 housing/rent/apartment\n",
       "5 5668626759 housing/rent/apartment\n",
       "6 5667891676 housing/rent/apartment\n",
       "  title                                                              \n",
       "1 Studio apartment 2nd St NE, Uhland Terrace NE, Washington, DC 20002\n",
       "2 Studio apartment 814 Schutte Road                                  \n",
       "3 Studio apartment N Scott St, 14th St N, Arlington, VA 22209        \n",
       "4 Studio apartment 1717 12th Ave                                     \n",
       "5 Studio apartment Washington Blvd, N Cleveland St, Arlington        \n",
       "6 0 BR in New York NY 10019                                          \n",
       "  body                                                                                                                                                                                                                                                                                                                                                                                                                                                                                                                                                                                                                                                                                                                                                                                                                                                                                                                                                                       \n",
       "1 This unit is located at second St NE, Uhland Terrace NE, Washington, DC 20002, Washington, 20002, DCMonthly rental rates range from $790 - $1090We have studio units available for rent                                                                                                                                                                                                                                                                                                                                                                                                                                                                                                                                                                                                                                                                                                                                                                                    \n",
       "2 This unit is located at 814 Schutte Road, Evansville, 47712, INMonthly rental rates range from $425 - $445We have studio - 1 beds units available for rent                                                                                                                                                                                                                                                                                                                                                                                                                                                                                                                                                                                                                                                                                                                                                                                                                 \n",
       "3 This unit is located at N Scott St, 14th St N, Arlington, VA 22209, Arlington, 22209, VAMonthly rental rates range from $1390We have studio units available for rent                                                                                                                                                                                                                                                                                                                                                                                                                                                                                                                                                                                                                                                                                                                                                                                                       \n",
       "4 This unit is located at 1717 12th Ave, Seattle, 98122, WAMonthly rental rates range from $925We have studio units available for rent                                                                                                                                                                                                                                                                                                                                                                                                                                                                                                                                                                                                                                                                                                                                                                                                                                       \n",
       "5 This unit is located at Washington Blvd, N Cleveland St, Arlington, Arlington, 22201, VAMonthly rental rates range from $880We have studio units available for rent                                                                                                                                                                                                                                                                                                                                                                                                                                                                                                                                                                                                                                                                                                                                                                                                        \n",
       "6 **RARE GEM WITH PRIVATE OUTDOOR TERRACE****AVAILABLE IMMEDIATELY** $2475 RENT IS NET EFFECTIVE WITH one month FREE ON $2700 Monthly rent***Low Fee*UNFURNISHED Spacious and Sunny Southern facing studio (403 sq-ft) with big private terrace (130 sq. feet) basks in natural sunlight all day long, facing the scenic landscaped and peaceful residents ct. yard. The apartment features hard wood floors throughout, a carousel kitchen with new appliances and two big closets. Laundry on floor steps away.Worldwide Plaza is a full-service condo that pampers its residents with concierge and 24-hr attendant at door services, a live-in resident manager, a scenic landscaped court yard and lounge, valet service, 8 laundry rooms (washer and dryers are permitted within the residences), on-site garage and a separate full-service health club (NYSC ELITE) equipped with a 25 meter salt water pool, immersive VR spin cycling room, sauna, steam room, etc.\n",
       "  amenities                                   bathrooms bedrooms currency fee\n",
       "1 null                                        null      0        USD      No \n",
       "2 null                                        null      1        USD      No \n",
       "3 null                                        1         0        USD      No \n",
       "4 null                                        1         0        USD      No \n",
       "5 null                                        null      0        USD      No \n",
       "6 Dishwasher,Elevator,Patio/Deck,Pool,Storage 1         0        USD      No \n",
       "  has_photo ⋯ price_display price_type square_feet address          cityname  \n",
       "1 Thumbnail ⋯ $790          Monthly    101         null             Washington\n",
       "2 Thumbnail ⋯ $425          Monthly    106         814 Schutte Rd   Evansville\n",
       "3 Thumbnail ⋯ $1,390        Monthly    107         null             Arlington \n",
       "4 Thumbnail ⋯ $925          Monthly    116         1717 12th Avenue Seattle   \n",
       "5 Thumbnail ⋯ $880          Monthly    125         null             Arlington \n",
       "6 Thumbnail ⋯ $2,475        Monthly    130         350 West 50th St Manhattan \n",
       "  state latitude longitude source    time      \n",
       "1 DC    38.9057  -76.9861  RentLingo 1577359415\n",
       "2 IN    37.9680  -87.6621  RentLingo 1577017063\n",
       "3 VA    38.8910  -77.0816  RentLingo 1577359410\n",
       "4 WA    47.6160  -122.3275 RentLingo 1576667743\n",
       "5 VA    38.8738  -77.1055  RentLingo 1577359401\n",
       "6 NY    40.7629  -73.9885  Listanza  1577289784"
      ]
     },
     "metadata": {},
     "output_type": "display_data"
    }
   ],
   "source": [
    "apartments<- read_csv2(\"data/apartments_for_rent_classified_10K.csv\")\n",
    "head(apartments)"
   ]
  },
  {
   "cell_type": "markdown",
   "id": "3b9765f3-f181-4b45-95f6-5f1cc34325da",
   "metadata": {},
   "source": [
    "This is our dataset. From here, we can see that there are alot of unnecessary variable that does not contribute directly into our analysis, therefore we must address them and filter them out. Next, we would like to only filter for the column \"price_type\" and only choose rows where the type is \"Monthly\"."
   ]
  },
  {
   "cell_type": "code",
   "execution_count": 32,
   "id": "511a77cf-15d1-4917-9965-9a1dfc96f197",
   "metadata": {},
   "outputs": [
    {
     "data": {
      "text/html": [
       "<table class=\"dataframe\">\n",
       "<caption>A tibble: 3 × 2</caption>\n",
       "<thead>\n",
       "\t<tr><th scope=col>price_type</th><th scope=col>count</th></tr>\n",
       "\t<tr><th scope=col>&lt;chr&gt;</th><th scope=col>&lt;int&gt;</th></tr>\n",
       "</thead>\n",
       "<tbody>\n",
       "\t<tr><td>Monthly       </td><td>9998</td></tr>\n",
       "\t<tr><td>Monthly|Weekly</td><td>   1</td></tr>\n",
       "\t<tr><td>Weekly        </td><td>   1</td></tr>\n",
       "</tbody>\n",
       "</table>\n"
      ],
      "text/latex": [
       "A tibble: 3 × 2\n",
       "\\begin{tabular}{ll}\n",
       " price\\_type & count\\\\\n",
       " <chr> & <int>\\\\\n",
       "\\hline\n",
       "\t Monthly        & 9998\\\\\n",
       "\t Monthly\\textbar{}Weekly &    1\\\\\n",
       "\t Weekly         &    1\\\\\n",
       "\\end{tabular}\n"
      ],
      "text/markdown": [
       "\n",
       "A tibble: 3 × 2\n",
       "\n",
       "| price_type &lt;chr&gt; | count &lt;int&gt; |\n",
       "|---|---|\n",
       "| Monthly        | 9998 |\n",
       "| Monthly|Weekly |    1 |\n",
       "| Weekly         |    1 |\n",
       "\n"
      ],
      "text/plain": [
       "  price_type     count\n",
       "1 Monthly        9998 \n",
       "2 Monthly|Weekly    1 \n",
       "3 Weekly            1 "
      ]
     },
     "metadata": {},
     "output_type": "display_data"
    }
   ],
   "source": [
    "apt_read <- apartments|>\n",
    "            group_by(price_type)|>\n",
    "            summarize(count =n())\n",
    "\n",
    "apt_read"
   ]
  },
  {
   "cell_type": "code",
   "execution_count": 33,
   "id": "7792bc59-c642-4929-a463-a0b357a364a3",
   "metadata": {},
   "outputs": [
    {
     "data": {
      "text/html": [
       "<table class=\"dataframe\">\n",
       "<caption>A tibble: 6 × 9</caption>\n",
       "<thead>\n",
       "\t<tr><th scope=col>category</th><th scope=col>bathrooms</th><th scope=col>bedrooms</th><th scope=col>currency</th><th scope=col>price</th><th scope=col>price_type</th><th scope=col>square_feet</th><th scope=col>cityname</th><th scope=col>state</th></tr>\n",
       "\t<tr><th scope=col>&lt;fct&gt;</th><th scope=col>&lt;dbl&gt;</th><th scope=col>&lt;dbl&gt;</th><th scope=col>&lt;chr&gt;</th><th scope=col>&lt;dbl&gt;</th><th scope=col>&lt;chr&gt;</th><th scope=col>&lt;dbl&gt;</th><th scope=col>&lt;chr&gt;</th><th scope=col>&lt;chr&gt;</th></tr>\n",
       "</thead>\n",
       "<tbody>\n",
       "\t<tr><td>Apartment</td><td>1</td><td>0</td><td>USD</td><td>1390</td><td>Monthly</td><td>107</td><td>Arlington    </td><td>VA</td></tr>\n",
       "\t<tr><td>Apartment</td><td>1</td><td>0</td><td>USD</td><td> 925</td><td>Monthly</td><td>116</td><td>Seattle      </td><td>WA</td></tr>\n",
       "\t<tr><td>Apartment</td><td>1</td><td>0</td><td>USD</td><td>2475</td><td>Monthly</td><td>130</td><td>Manhattan    </td><td>NY</td></tr>\n",
       "\t<tr><td>Apartment</td><td>1</td><td>0</td><td>USD</td><td>1495</td><td>Monthly</td><td>138</td><td>San Francisco</td><td>CA</td></tr>\n",
       "\t<tr><td>Apartment</td><td>1</td><td>0</td><td>USD</td><td>1695</td><td>Monthly</td><td>190</td><td>San Francisco</td><td>CA</td></tr>\n",
       "\t<tr><td>Apartment</td><td>1</td><td>1</td><td>USD</td><td>1560</td><td>Monthly</td><td>200</td><td>New Bern     </td><td>NC</td></tr>\n",
       "</tbody>\n",
       "</table>\n"
      ],
      "text/latex": [
       "A tibble: 6 × 9\n",
       "\\begin{tabular}{lllllllll}\n",
       " category & bathrooms & bedrooms & currency & price & price\\_type & square\\_feet & cityname & state\\\\\n",
       " <fct> & <dbl> & <dbl> & <chr> & <dbl> & <chr> & <dbl> & <chr> & <chr>\\\\\n",
       "\\hline\n",
       "\t Apartment & 1 & 0 & USD & 1390 & Monthly & 107 & Arlington     & VA\\\\\n",
       "\t Apartment & 1 & 0 & USD &  925 & Monthly & 116 & Seattle       & WA\\\\\n",
       "\t Apartment & 1 & 0 & USD & 2475 & Monthly & 130 & Manhattan     & NY\\\\\n",
       "\t Apartment & 1 & 0 & USD & 1495 & Monthly & 138 & San Francisco & CA\\\\\n",
       "\t Apartment & 1 & 0 & USD & 1695 & Monthly & 190 & San Francisco & CA\\\\\n",
       "\t Apartment & 1 & 1 & USD & 1560 & Monthly & 200 & New Bern      & NC\\\\\n",
       "\\end{tabular}\n"
      ],
      "text/markdown": [
       "\n",
       "A tibble: 6 × 9\n",
       "\n",
       "| category &lt;fct&gt; | bathrooms &lt;dbl&gt; | bedrooms &lt;dbl&gt; | currency &lt;chr&gt; | price &lt;dbl&gt; | price_type &lt;chr&gt; | square_feet &lt;dbl&gt; | cityname &lt;chr&gt; | state &lt;chr&gt; |\n",
       "|---|---|---|---|---|---|---|---|---|\n",
       "| Apartment | 1 | 0 | USD | 1390 | Monthly | 107 | Arlington     | VA |\n",
       "| Apartment | 1 | 0 | USD |  925 | Monthly | 116 | Seattle       | WA |\n",
       "| Apartment | 1 | 0 | USD | 2475 | Monthly | 130 | Manhattan     | NY |\n",
       "| Apartment | 1 | 0 | USD | 1495 | Monthly | 138 | San Francisco | CA |\n",
       "| Apartment | 1 | 0 | USD | 1695 | Monthly | 190 | San Francisco | CA |\n",
       "| Apartment | 1 | 1 | USD | 1560 | Monthly | 200 | New Bern      | NC |\n",
       "\n"
      ],
      "text/plain": [
       "  category  bathrooms bedrooms currency price price_type square_feet\n",
       "1 Apartment 1         0        USD      1390  Monthly    107        \n",
       "2 Apartment 1         0        USD       925  Monthly    116        \n",
       "3 Apartment 1         0        USD      2475  Monthly    130        \n",
       "4 Apartment 1         0        USD      1495  Monthly    138        \n",
       "5 Apartment 1         0        USD      1695  Monthly    190        \n",
       "6 Apartment 1         1        USD      1560  Monthly    200        \n",
       "  cityname      state\n",
       "1 Arlington     VA   \n",
       "2 Seattle       WA   \n",
       "3 Manhattan     NY   \n",
       "4 San Francisco CA   \n",
       "5 San Francisco CA   \n",
       "6 New Bern      NC   "
      ]
     },
     "metadata": {},
     "output_type": "display_data"
    },
    {
     "data": {
      "text/html": [
       "<table class=\"dataframe\">\n",
       "<caption>A tibble: 1 × 2</caption>\n",
       "<thead>\n",
       "\t<tr><th scope=col>state</th><th scope=col>count</th></tr>\n",
       "\t<tr><th scope=col>&lt;chr&gt;</th><th scope=col>&lt;int&gt;</th></tr>\n",
       "</thead>\n",
       "<tbody>\n",
       "\t<tr><td>TX</td><td>1730</td></tr>\n",
       "</tbody>\n",
       "</table>\n"
      ],
      "text/latex": [
       "A tibble: 1 × 2\n",
       "\\begin{tabular}{ll}\n",
       " state & count\\\\\n",
       " <chr> & <int>\\\\\n",
       "\\hline\n",
       "\t TX & 1730\\\\\n",
       "\\end{tabular}\n"
      ],
      "text/markdown": [
       "\n",
       "A tibble: 1 × 2\n",
       "\n",
       "| state &lt;chr&gt; | count &lt;int&gt; |\n",
       "|---|---|\n",
       "| TX | 1730 |\n",
       "\n"
      ],
      "text/plain": [
       "  state count\n",
       "1 TX    1730 "
      ]
     },
     "metadata": {},
     "output_type": "display_data"
    }
   ],
   "source": [
    "apt_sample <- apartments |>\n",
    "                filter(bathrooms != 'null')|>\n",
    "                filter(bedrooms != 'null')|>\n",
    "                filter(price_type == \"Monthly\")|>\n",
    "                mutate(bathrooms = as.double(bathrooms))|>\n",
    "                mutate(bedrooms = as.double(bedrooms))|>\n",
    "                mutate(category = as.factor(category))|>\n",
    "                mutate(category = fct_recode(category,\n",
    "                                            'Apartment' = 'housing/rent/apartment',\n",
    "                                            'Home' = 'housing/rent/home',\n",
    "                                            'Short Term' = 'housing/rent/short_term'))|>\n",
    "                mutate(time = as.POSIXct(time, origin=\"1970-01-01\"))|>\n",
    "                select(-latitude,- longitude, -source, -pets_allowed, -price_display, -address, -title,\n",
    "                       -body, -fee, -id, -has_photo, -time, -amenities)\n",
    "\n",
    "apt_states <-  apt_sample |>\n",
    "            group_by (state)|>\n",
    "            summarize(count = n())|>\n",
    "            arrange(desc(count))|>\n",
    "            slice(1)\n",
    "head(apt_sample)\n",
    "apt_states"
   ]
  },
  {
   "cell_type": "markdown",
   "id": "c525c5a8-b1f0-466f-8492-40297aaa626d",
   "metadata": {},
   "source": [
    "From here we see that Texas has the highest count of rental properties"
   ]
  },
  {
   "cell_type": "code",
   "execution_count": null,
   "id": "b08b1a69-c66f-4200-91ab-bf663936a398",
   "metadata": {},
   "outputs": [],
   "source": []
  }
 ],
 "metadata": {
  "kernelspec": {
   "display_name": "R",
   "language": "R",
   "name": "ir"
  },
  "language_info": {
   "codemirror_mode": "r",
   "file_extension": ".r",
   "mimetype": "text/x-r-source",
   "name": "R",
   "pygments_lexer": "r",
   "version": "4.3.1"
  }
 },
 "nbformat": 4,
 "nbformat_minor": 5
}
