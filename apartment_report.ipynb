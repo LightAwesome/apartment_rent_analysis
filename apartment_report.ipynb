{
 "cells": [
  {
   "cell_type": "markdown",
   "id": "6279c5c5-f8dd-44ad-91dd-4cbfceeac751",
   "metadata": {},
   "source": [
    "# An Analysis of Rental Prices of Apartments in Texas\n",
    "### Members:\n",
    "    Mohammed Touseef Ansari\n",
    "    Jerry Nguyen\n",
    "    Cadence Parker\n",
    "    Nadia Nafeesa Binti Rashid"
   ]
  },
  {
   "cell_type": "markdown",
   "id": "f65b94d5-b320-4cd8-98f5-f253e82a7b63",
   "metadata": {},
   "source": [
    "### Introduction:\n",
    "As first year students living on residence, we are fortunate to not think about our commute, cooking, and therefore be able to focus on the task at hands and that is studying. However, as our finals are approaching, we are faced with the imminent need to find housing. Therefore, we are inspired to assess the following dataset, taken from **UC Irvine Machine Leaning Repository**:https://archive.ics.uci.edu/dataset/555/apartment+for+rent+classified\n",
    "\n",
    "This dataset contains 100,000 obersvations in 2019 of listed rentals, mainly apartments, across the US and the city it is located in. The following variables includes:\n",
    "- `id = unique identifier of apartment`\n",
    "- `category = category of classified`\n",
    "- `title = title text of apartment`\n",
    "- `body = body text of apartment`\n",
    "- `amenities = like AC, basketball,cable, gym, internet access, pool, refrigerator etc`\n",
    "- `bathrooms = number of bathrooms`\n",
    "- `bedrooms = number of bedrooms`\n",
    "- `currency = price in current`\n",
    "- `fee = fee`\n",
    "- `has_photo = photo of apartment`\n",
    "- `pets_allowed = what pets are allowed dogs/cats etc.`\n",
    "- `price = rental price of apartment`\n",
    "- `price_display = price converted into display for reader`\n",
    "- `price_type = price in USD`\n",
    "- `square_feet = size of the apartment`\n",
    "- `address =  where the apartment is located`\n",
    "- `cityname =  where the apartment is located`\n",
    "- `state =  where the apartment is located`\n",
    "- `latitude = where the apartment is located`\n",
    "- `longitude = where the apartment is located`\n",
    "- `source = origin of classified`\n",
    "- `time = when classified was created`\n",
    "\n",
    "We will use this dataset to predict the average price of a rental based on their size and try to answer this question:\n",
    "- **What are the monthly rental prices for a certain size of apartment in urban cities Texas? And how accurately does this correlation apply to the top 3 urban cities in Texas?**\n",
    "\n",
    "The reason we would use Texas is because through our time exploring the data, we found that Texas has the highest count of rentals in the dataset."
   ]
  },
  {
   "cell_type": "code",
   "execution_count": 10,
   "id": "b2f77643-dcbb-4fe3-b8b4-755b1b0d804e",
   "metadata": {},
   "outputs": [],
   "source": [
    "library(tidyverse)\n",
    "library(repr)\n",
    "library(tidymodels)\n",
    "library(readr)"
   ]
  },
  {
   "cell_type": "markdown",
   "id": "e434fb21-7538-46d6-9a71-53a561ec744f",
   "metadata": {},
   "source": [
    "### Methods: Exploratory Data Analysis"
   ]
  },
  {
   "cell_type": "code",
   "execution_count": 11,
   "id": "1c6ddbf5-f331-48db-ba32-639ac77cac55",
   "metadata": {},
   "outputs": [
    {
     "name": "stderr",
     "output_type": "stream",
     "text": [
      "\u001b[36mℹ\u001b[39m Using \u001b[34m\u001b[34m\"','\"\u001b[34m\u001b[39m as decimal and \u001b[34m\u001b[34m\"'.'\"\u001b[34m\u001b[39m as grouping mark. Use `read_delim()` for more control.\n",
      "\n",
      "Warning message:\n",
      "“\u001b[1m\u001b[22mOne or more parsing issues, call `problems()` on your data frame for details,\n",
      "e.g.:\n",
      "  dat <- vroom(...)\n",
      "  problems(dat)”\n",
      "\u001b[1mRows: \u001b[22m\u001b[34m98924\u001b[39m \u001b[1mColumns: \u001b[22m\u001b[34m22\u001b[39m\n",
      "\u001b[36m──\u001b[39m \u001b[1mColumn specification\u001b[22m \u001b[36m────────────────────────────────────────────────────────\u001b[39m\n",
      "\u001b[1mDelimiter:\u001b[22m \";\"\n",
      "\u001b[31mchr\u001b[39m (15): category, title, body, amenities, bathrooms, currency, fee, has_ph...\n",
      "\u001b[32mdbl\u001b[39m  (5): id, bedrooms, price, square_feet, time\n",
      "\u001b[32mnum\u001b[39m  (2): latitude, longitude\n",
      "\n",
      "\u001b[36mℹ\u001b[39m Use `spec()` to retrieve the full column specification for this data.\n",
      "\u001b[36mℹ\u001b[39m Specify the column types or set `show_col_types = FALSE` to quiet this message.\n"
     ]
    },
    {
     "data": {
      "text/html": [
       "<table class=\"dataframe\">\n",
       "<caption>A tibble: 6 × 22</caption>\n",
       "<thead>\n",
       "\t<tr><th scope=col>id</th><th scope=col>category</th><th scope=col>title</th><th scope=col>body</th><th scope=col>amenities</th><th scope=col>bathrooms</th><th scope=col>bedrooms</th><th scope=col>currency</th><th scope=col>fee</th><th scope=col>has_photo</th><th scope=col>⋯</th><th scope=col>price_display</th><th scope=col>price_type</th><th scope=col>square_feet</th><th scope=col>address</th><th scope=col>cityname</th><th scope=col>state</th><th scope=col>latitude</th><th scope=col>longitude</th><th scope=col>source</th><th scope=col>time</th></tr>\n",
       "\t<tr><th scope=col>&lt;dbl&gt;</th><th scope=col>&lt;chr&gt;</th><th scope=col>&lt;chr&gt;</th><th scope=col>&lt;chr&gt;</th><th scope=col>&lt;chr&gt;</th><th scope=col>&lt;chr&gt;</th><th scope=col>&lt;dbl&gt;</th><th scope=col>&lt;chr&gt;</th><th scope=col>&lt;chr&gt;</th><th scope=col>&lt;chr&gt;</th><th scope=col>⋯</th><th scope=col>&lt;chr&gt;</th><th scope=col>&lt;chr&gt;</th><th scope=col>&lt;dbl&gt;</th><th scope=col>&lt;chr&gt;</th><th scope=col>&lt;chr&gt;</th><th scope=col>&lt;chr&gt;</th><th scope=col>&lt;dbl&gt;</th><th scope=col>&lt;dbl&gt;</th><th scope=col>&lt;chr&gt;</th><th scope=col>&lt;dbl&gt;</th></tr>\n",
       "</thead>\n",
       "<tbody>\n",
       "\t<tr><td>5668640009</td><td>housing/rent/apartment</td><td><span style=white-space:pre-wrap>One BR 507 &amp; 509 Esplanade     </span></td><td><span style=white-space:pre-wrap>This unit is located at 507 &amp; 509 Esplanade, Redondo Beach, 90277, CAMonthly rental rates range from $2195We have 1 beds units available for rent           </span></td><td>null</td><td><span style=white-space:pre-wrap>1  </span></td><td>1</td><td>USD</td><td>No</td><td>Thumbnail</td><td>⋯</td><td>$2,195</td><td>Monthly</td><td> 542</td><td><span style=white-space:pre-wrap>507  509 Esplanade </span></td><td>Redondo Beach</td><td>CA</td><td>338520</td><td>-1183759</td><td>RentLingo</td><td>1577360355</td></tr>\n",
       "\t<tr><td>5668639818</td><td>housing/rent/apartment</td><td>Three BR 146 Lochview Drive    </td><td>This unit is located at 146 Lochview Drive, Newport News, 23602, VAMonthly rental rates range from $1250We have 3 beds units available for rent             </td><td>null</td><td>1.5</td><td>3</td><td>USD</td><td>No</td><td>Thumbnail</td><td>⋯</td><td>$1,250</td><td>Monthly</td><td>1500</td><td>146 Lochview Dr    </td><td>Newport News </td><td>VA</td><td>370867</td><td> -764941</td><td>RentLingo</td><td>1577360340</td></tr>\n",
       "\t<tr><td>5668639686</td><td>housing/rent/apartment</td><td>Three BR 3101 Morningside Drive</td><td>This unit is located at 3101 Morningside Drive, Raleigh, 27607, NCMonthly rental rates range from $1395We have 3 beds units available for rent              </td><td>null</td><td>2  </td><td>3</td><td>USD</td><td>No</td><td>Thumbnail</td><td>⋯</td><td>$1,395</td><td>Monthly</td><td>1650</td><td>3101 Morningside Dr</td><td>Raleigh      </td><td>NC</td><td>358230</td><td> -786438</td><td>RentLingo</td><td>1577360332</td></tr>\n",
       "\t<tr><td>5668639659</td><td>housing/rent/apartment</td><td>Two BR 209 Aegean Way          </td><td>This unit is located at 209 Aegean Way, Vacaville, 95687, CAMonthly rental rates range from $1600 - $1725We have 2 beds units available for rent            </td><td>null</td><td>1  </td><td>2</td><td>USD</td><td>No</td><td>Thumbnail</td><td>⋯</td><td>$1,600</td><td>Monthly</td><td> 820</td><td>209 Aegean Way     </td><td>Vacaville    </td><td>CA</td><td>383622</td><td>-1219712</td><td>RentLingo</td><td>1577360330</td></tr>\n",
       "\t<tr><td>5668639374</td><td>housing/rent/apartment</td><td>One BR 4805 Marquette NE       </td><td>This unit is located at 4805 Marquette NE, Albuquerque, 87108, NMMonthly rental rates range from $975 - $1100We have one - two beds units available for rent</td><td>null</td><td>1  </td><td>1</td><td>USD</td><td>No</td><td>Thumbnail</td><td>⋯</td><td>$975  </td><td>Monthly</td><td> 624</td><td>4805 Marquette NE  </td><td>Albuquerque  </td><td>NM</td><td>351038</td><td>-1066110</td><td>RentLingo</td><td>1577360308</td></tr>\n",
       "\t<tr><td>5668639368</td><td>housing/rent/apartment</td><td>Two BR 7801 Marble NE          </td><td>This unit is located at 7801 Marble NE, Albuquerque, 87110, NMMonthly rental rates range from $1250 - $1300We have 2 beds units available for rent          </td><td>null</td><td>1.5</td><td>2</td><td>USD</td><td>No</td><td>Thumbnail</td><td>⋯</td><td>$1,250</td><td>Monthly</td><td> 965</td><td>7801 Marble NE     </td><td>Albuquerque  </td><td>NM</td><td>351038</td><td>-1066110</td><td>RentLingo</td><td>1577360308</td></tr>\n",
       "</tbody>\n",
       "</table>\n"
      ],
      "text/latex": [
       "A tibble: 6 × 22\n",
       "\\begin{tabular}{lllllllllllllllllllll}\n",
       " id & category & title & body & amenities & bathrooms & bedrooms & currency & fee & has\\_photo & ⋯ & price\\_display & price\\_type & square\\_feet & address & cityname & state & latitude & longitude & source & time\\\\\n",
       " <dbl> & <chr> & <chr> & <chr> & <chr> & <chr> & <dbl> & <chr> & <chr> & <chr> & ⋯ & <chr> & <chr> & <dbl> & <chr> & <chr> & <chr> & <dbl> & <dbl> & <chr> & <dbl>\\\\\n",
       "\\hline\n",
       "\t 5668640009 & housing/rent/apartment & One BR 507 \\& 509 Esplanade      & This unit is located at 507 \\& 509 Esplanade, Redondo Beach, 90277, CAMonthly rental rates range from \\$2195We have 1 beds units available for rent            & null & 1   & 1 & USD & No & Thumbnail & ⋯ & \\$2,195 & Monthly &  542 & 507  509 Esplanade  & Redondo Beach & CA & 338520 & -1183759 & RentLingo & 1577360355\\\\\n",
       "\t 5668639818 & housing/rent/apartment & Three BR 146 Lochview Drive     & This unit is located at 146 Lochview Drive, Newport News, 23602, VAMonthly rental rates range from \\$1250We have 3 beds units available for rent              & null & 1.5 & 3 & USD & No & Thumbnail & ⋯ & \\$1,250 & Monthly & 1500 & 146 Lochview Dr     & Newport News  & VA & 370867 &  -764941 & RentLingo & 1577360340\\\\\n",
       "\t 5668639686 & housing/rent/apartment & Three BR 3101 Morningside Drive & This unit is located at 3101 Morningside Drive, Raleigh, 27607, NCMonthly rental rates range from \\$1395We have 3 beds units available for rent               & null & 2   & 3 & USD & No & Thumbnail & ⋯ & \\$1,395 & Monthly & 1650 & 3101 Morningside Dr & Raleigh       & NC & 358230 &  -786438 & RentLingo & 1577360332\\\\\n",
       "\t 5668639659 & housing/rent/apartment & Two BR 209 Aegean Way           & This unit is located at 209 Aegean Way, Vacaville, 95687, CAMonthly rental rates range from \\$1600 - \\$1725We have 2 beds units available for rent             & null & 1   & 2 & USD & No & Thumbnail & ⋯ & \\$1,600 & Monthly &  820 & 209 Aegean Way      & Vacaville     & CA & 383622 & -1219712 & RentLingo & 1577360330\\\\\n",
       "\t 5668639374 & housing/rent/apartment & One BR 4805 Marquette NE        & This unit is located at 4805 Marquette NE, Albuquerque, 87108, NMMonthly rental rates range from \\$975 - \\$1100We have one - two beds units available for rent & null & 1   & 1 & USD & No & Thumbnail & ⋯ & \\$975   & Monthly &  624 & 4805 Marquette NE   & Albuquerque   & NM & 351038 & -1066110 & RentLingo & 1577360308\\\\\n",
       "\t 5668639368 & housing/rent/apartment & Two BR 7801 Marble NE           & This unit is located at 7801 Marble NE, Albuquerque, 87110, NMMonthly rental rates range from \\$1250 - \\$1300We have 2 beds units available for rent           & null & 1.5 & 2 & USD & No & Thumbnail & ⋯ & \\$1,250 & Monthly &  965 & 7801 Marble NE      & Albuquerque   & NM & 351038 & -1066110 & RentLingo & 1577360308\\\\\n",
       "\\end{tabular}\n"
      ],
      "text/markdown": [
       "\n",
       "A tibble: 6 × 22\n",
       "\n",
       "| id &lt;dbl&gt; | category &lt;chr&gt; | title &lt;chr&gt; | body &lt;chr&gt; | amenities &lt;chr&gt; | bathrooms &lt;chr&gt; | bedrooms &lt;dbl&gt; | currency &lt;chr&gt; | fee &lt;chr&gt; | has_photo &lt;chr&gt; | ⋯ ⋯ | price_display &lt;chr&gt; | price_type &lt;chr&gt; | square_feet &lt;dbl&gt; | address &lt;chr&gt; | cityname &lt;chr&gt; | state &lt;chr&gt; | latitude &lt;dbl&gt; | longitude &lt;dbl&gt; | source &lt;chr&gt; | time &lt;dbl&gt; |\n",
       "|---|---|---|---|---|---|---|---|---|---|---|---|---|---|---|---|---|---|---|---|---|\n",
       "| 5668640009 | housing/rent/apartment | One BR 507 &amp; 509 Esplanade      | This unit is located at 507 &amp; 509 Esplanade, Redondo Beach, 90277, CAMonthly rental rates range from $2195We have 1 beds units available for rent            | null | 1   | 1 | USD | No | Thumbnail | ⋯ | $2,195 | Monthly |  542 | 507  509 Esplanade  | Redondo Beach | CA | 338520 | -1183759 | RentLingo | 1577360355 |\n",
       "| 5668639818 | housing/rent/apartment | Three BR 146 Lochview Drive     | This unit is located at 146 Lochview Drive, Newport News, 23602, VAMonthly rental rates range from $1250We have 3 beds units available for rent              | null | 1.5 | 3 | USD | No | Thumbnail | ⋯ | $1,250 | Monthly | 1500 | 146 Lochview Dr     | Newport News  | VA | 370867 |  -764941 | RentLingo | 1577360340 |\n",
       "| 5668639686 | housing/rent/apartment | Three BR 3101 Morningside Drive | This unit is located at 3101 Morningside Drive, Raleigh, 27607, NCMonthly rental rates range from $1395We have 3 beds units available for rent               | null | 2   | 3 | USD | No | Thumbnail | ⋯ | $1,395 | Monthly | 1650 | 3101 Morningside Dr | Raleigh       | NC | 358230 |  -786438 | RentLingo | 1577360332 |\n",
       "| 5668639659 | housing/rent/apartment | Two BR 209 Aegean Way           | This unit is located at 209 Aegean Way, Vacaville, 95687, CAMonthly rental rates range from $1600 - $1725We have 2 beds units available for rent             | null | 1   | 2 | USD | No | Thumbnail | ⋯ | $1,600 | Monthly |  820 | 209 Aegean Way      | Vacaville     | CA | 383622 | -1219712 | RentLingo | 1577360330 |\n",
       "| 5668639374 | housing/rent/apartment | One BR 4805 Marquette NE        | This unit is located at 4805 Marquette NE, Albuquerque, 87108, NMMonthly rental rates range from $975 - $1100We have one - two beds units available for rent | null | 1   | 1 | USD | No | Thumbnail | ⋯ | $975   | Monthly |  624 | 4805 Marquette NE   | Albuquerque   | NM | 351038 | -1066110 | RentLingo | 1577360308 |\n",
       "| 5668639368 | housing/rent/apartment | Two BR 7801 Marble NE           | This unit is located at 7801 Marble NE, Albuquerque, 87110, NMMonthly rental rates range from $1250 - $1300We have 2 beds units available for rent           | null | 1.5 | 2 | USD | No | Thumbnail | ⋯ | $1,250 | Monthly |  965 | 7801 Marble NE      | Albuquerque   | NM | 351038 | -1066110 | RentLingo | 1577360308 |\n",
       "\n"
      ],
      "text/plain": [
       "  id         category               title                          \n",
       "1 5668640009 housing/rent/apartment One BR 507 & 509 Esplanade     \n",
       "2 5668639818 housing/rent/apartment Three BR 146 Lochview Drive    \n",
       "3 5668639686 housing/rent/apartment Three BR 3101 Morningside Drive\n",
       "4 5668639659 housing/rent/apartment Two BR 209 Aegean Way          \n",
       "5 5668639374 housing/rent/apartment One BR 4805 Marquette NE       \n",
       "6 5668639368 housing/rent/apartment Two BR 7801 Marble NE          \n",
       "  body                                                                                                                                                        \n",
       "1 This unit is located at 507 & 509 Esplanade, Redondo Beach, 90277, CAMonthly rental rates range from $2195We have 1 beds units available for rent           \n",
       "2 This unit is located at 146 Lochview Drive, Newport News, 23602, VAMonthly rental rates range from $1250We have 3 beds units available for rent             \n",
       "3 This unit is located at 3101 Morningside Drive, Raleigh, 27607, NCMonthly rental rates range from $1395We have 3 beds units available for rent              \n",
       "4 This unit is located at 209 Aegean Way, Vacaville, 95687, CAMonthly rental rates range from $1600 - $1725We have 2 beds units available for rent            \n",
       "5 This unit is located at 4805 Marquette NE, Albuquerque, 87108, NMMonthly rental rates range from $975 - $1100We have one - two beds units available for rent\n",
       "6 This unit is located at 7801 Marble NE, Albuquerque, 87110, NMMonthly rental rates range from $1250 - $1300We have 2 beds units available for rent          \n",
       "  amenities bathrooms bedrooms currency fee has_photo ⋯ price_display\n",
       "1 null      1         1        USD      No  Thumbnail ⋯ $2,195       \n",
       "2 null      1.5       3        USD      No  Thumbnail ⋯ $1,250       \n",
       "3 null      2         3        USD      No  Thumbnail ⋯ $1,395       \n",
       "4 null      1         2        USD      No  Thumbnail ⋯ $1,600       \n",
       "5 null      1         1        USD      No  Thumbnail ⋯ $975         \n",
       "6 null      1.5       2        USD      No  Thumbnail ⋯ $1,250       \n",
       "  price_type square_feet address             cityname      state latitude\n",
       "1 Monthly     542        507  509 Esplanade  Redondo Beach CA    338520  \n",
       "2 Monthly    1500        146 Lochview Dr     Newport News  VA    370867  \n",
       "3 Monthly    1650        3101 Morningside Dr Raleigh       NC    358230  \n",
       "4 Monthly     820        209 Aegean Way      Vacaville     CA    383622  \n",
       "5 Monthly     624        4805 Marquette NE   Albuquerque   NM    351038  \n",
       "6 Monthly     965        7801 Marble NE      Albuquerque   NM    351038  \n",
       "  longitude source    time      \n",
       "1 -1183759  RentLingo 1577360355\n",
       "2  -764941  RentLingo 1577360340\n",
       "3  -786438  RentLingo 1577360332\n",
       "4 -1219712  RentLingo 1577360330\n",
       "5 -1066110  RentLingo 1577360308\n",
       "6 -1066110  RentLingo 1577360308"
      ]
     },
     "metadata": {},
     "output_type": "display_data"
    }
   ],
   "source": [
    "# URL of the dataset\n",
    "url <- \"https://raw.githubusercontent.com/LightAwesome/apartment_rent_analysis/main/data/apartments_for_rent_classified_100K.csv\"\n",
    "\n",
    "# Read the dataset\n",
    "apartments <- read_csv2(url)\n",
    "\n",
    "# Display the first few rows of the dataset\n",
    "head(apartments)"
   ]
  },
  {
   "cell_type": "markdown",
   "id": "5bb89db3-5140-4f46-8ebb-5d89f34b0968",
   "metadata": {},
   "source": [
    "_Figure 1: Our raw dataset - without cleaning or filtering out unnecessary variable_"
   ]
  },
  {
   "cell_type": "code",
   "execution_count": 12,
   "id": "78f17c87-a104-46be-8d32-2b89dd4fdd52",
   "metadata": {},
   "outputs": [
    {
     "data": {
      "text/html": [
       "<table class=\"dataframe\">\n",
       "<caption>A tibble: 6 × 7</caption>\n",
       "<thead>\n",
       "\t<tr><th scope=col>category</th><th scope=col>bathrooms</th><th scope=col>bedrooms</th><th scope=col>price</th><th scope=col>square_feet</th><th scope=col>cityname</th><th scope=col>state</th></tr>\n",
       "\t<tr><th scope=col>&lt;fct&gt;</th><th scope=col>&lt;dbl&gt;</th><th scope=col>&lt;dbl&gt;</th><th scope=col>&lt;dbl&gt;</th><th scope=col>&lt;dbl&gt;</th><th scope=col>&lt;chr&gt;</th><th scope=col>&lt;chr&gt;</th></tr>\n",
       "</thead>\n",
       "<tbody>\n",
       "\t<tr><td>Apartment</td><td>1.0</td><td>1</td><td>2195</td><td> 542</td><td>Redondo Beach</td><td>CA</td></tr>\n",
       "\t<tr><td>Apartment</td><td>1.5</td><td>3</td><td>1250</td><td>1500</td><td>Newport News </td><td>VA</td></tr>\n",
       "\t<tr><td>Apartment</td><td>2.0</td><td>3</td><td>1395</td><td>1650</td><td>Raleigh      </td><td>NC</td></tr>\n",
       "\t<tr><td>Apartment</td><td>1.0</td><td>2</td><td>1600</td><td> 820</td><td>Vacaville    </td><td>CA</td></tr>\n",
       "\t<tr><td>Apartment</td><td>1.0</td><td>1</td><td> 975</td><td> 624</td><td>Albuquerque  </td><td>NM</td></tr>\n",
       "\t<tr><td>Apartment</td><td>1.5</td><td>2</td><td>1250</td><td> 965</td><td>Albuquerque  </td><td>NM</td></tr>\n",
       "</tbody>\n",
       "</table>\n"
      ],
      "text/latex": [
       "A tibble: 6 × 7\n",
       "\\begin{tabular}{lllllll}\n",
       " category & bathrooms & bedrooms & price & square\\_feet & cityname & state\\\\\n",
       " <fct> & <dbl> & <dbl> & <dbl> & <dbl> & <chr> & <chr>\\\\\n",
       "\\hline\n",
       "\t Apartment & 1.0 & 1 & 2195 &  542 & Redondo Beach & CA\\\\\n",
       "\t Apartment & 1.5 & 3 & 1250 & 1500 & Newport News  & VA\\\\\n",
       "\t Apartment & 2.0 & 3 & 1395 & 1650 & Raleigh       & NC\\\\\n",
       "\t Apartment & 1.0 & 2 & 1600 &  820 & Vacaville     & CA\\\\\n",
       "\t Apartment & 1.0 & 1 &  975 &  624 & Albuquerque   & NM\\\\\n",
       "\t Apartment & 1.5 & 2 & 1250 &  965 & Albuquerque   & NM\\\\\n",
       "\\end{tabular}\n"
      ],
      "text/markdown": [
       "\n",
       "A tibble: 6 × 7\n",
       "\n",
       "| category &lt;fct&gt; | bathrooms &lt;dbl&gt; | bedrooms &lt;dbl&gt; | price &lt;dbl&gt; | square_feet &lt;dbl&gt; | cityname &lt;chr&gt; | state &lt;chr&gt; |\n",
       "|---|---|---|---|---|---|---|\n",
       "| Apartment | 1.0 | 1 | 2195 |  542 | Redondo Beach | CA |\n",
       "| Apartment | 1.5 | 3 | 1250 | 1500 | Newport News  | VA |\n",
       "| Apartment | 2.0 | 3 | 1395 | 1650 | Raleigh       | NC |\n",
       "| Apartment | 1.0 | 2 | 1600 |  820 | Vacaville     | CA |\n",
       "| Apartment | 1.0 | 1 |  975 |  624 | Albuquerque   | NM |\n",
       "| Apartment | 1.5 | 2 | 1250 |  965 | Albuquerque   | NM |\n",
       "\n"
      ],
      "text/plain": [
       "  category  bathrooms bedrooms price square_feet cityname      state\n",
       "1 Apartment 1.0       1        2195   542        Redondo Beach CA   \n",
       "2 Apartment 1.5       3        1250  1500        Newport News  VA   \n",
       "3 Apartment 2.0       3        1395  1650        Raleigh       NC   \n",
       "4 Apartment 1.0       2        1600   820        Vacaville     CA   \n",
       "5 Apartment 1.0       1         975   624        Albuquerque   NM   \n",
       "6 Apartment 1.5       2        1250   965        Albuquerque   NM   "
      ]
     },
     "metadata": {},
     "output_type": "display_data"
    }
   ],
   "source": [
    "#The following code is used to isolate for the rental that is classified as \"Monthly\".\n",
    "#We also filtered out for unnecessary variables like amenities, price_type, currency, time, etc...that does not contribute to our analysis.\n",
    "apt_wrangled <- apartments |>\n",
    "                filter(bathrooms != 'null')|>\n",
    "                filter(bedrooms != 'null')|>\n",
    "                filter(price_type == \"Monthly\")|>\n",
    "                mutate(bathrooms = as.numeric(bathrooms))|>\n",
    "                mutate(bedrooms = as.numeric(bedrooms))|>\n",
    "                mutate(category = as.factor(category))|>\n",
    "                mutate(category = fct_recode(category,\n",
    "                                            'Apartment' = 'housing/rent/apartment',\n",
    "                                            'Home' = 'housing/rent/home',\n",
    "                                            'Short Term' = 'housing/rent/short_term'))|>\n",
    "                # mutate(time = as.POSIXct(time, origin=\"1970-01-01\"))|>\n",
    "                select(-amenities, - price_type, -currency, -time, -source,  -latitude,- longitude, -pets_allowed, -price_display, \n",
    "                       -address, -title, -body, -fee, -has_photo, -id)\n",
    "#We also filter out \"null\" values - for bedroom and bathrooms.\n",
    "   \n",
    "head(apt_wrangled)\n"
   ]
  },
  {
   "cell_type": "markdown",
   "id": "5653f1b8-0ebc-41c3-9b00-b7dd926611d8",
   "metadata": {},
   "source": [
    "_Figure 2: The first 6 rows of the cleaned data fram that filtered out most unnecessary information_"
   ]
  },
  {
   "cell_type": "code",
   "execution_count": 13,
   "id": "ac67ba79-37be-4861-a972-d008431d750d",
   "metadata": {},
   "outputs": [
    {
     "data": {
      "text/html": [
       "<table class=\"dataframe\">\n",
       "<caption>A tibble: 1 × 2</caption>\n",
       "<thead>\n",
       "\t<tr><th scope=col>state</th><th scope=col>count</th></tr>\n",
       "\t<tr><th scope=col>&lt;chr&gt;</th><th scope=col>&lt;int&gt;</th></tr>\n",
       "</thead>\n",
       "<tbody>\n",
       "\t<tr><td>TX</td><td>11188</td></tr>\n",
       "</tbody>\n",
       "</table>\n"
      ],
      "text/latex": [
       "A tibble: 1 × 2\n",
       "\\begin{tabular}{ll}\n",
       " state & count\\\\\n",
       " <chr> & <int>\\\\\n",
       "\\hline\n",
       "\t TX & 11188\\\\\n",
       "\\end{tabular}\n"
      ],
      "text/markdown": [
       "\n",
       "A tibble: 1 × 2\n",
       "\n",
       "| state &lt;chr&gt; | count &lt;int&gt; |\n",
       "|---|---|\n",
       "| TX | 11188 |\n",
       "\n"
      ],
      "text/plain": [
       "  state count\n",
       "1 TX    11188"
      ]
     },
     "metadata": {},
     "output_type": "display_data"
    }
   ],
   "source": [
    "#This line of code is part of our exploratory data analysis - where we group the apartments by state and see which one has the highest count of monthly rentals.\n",
    "apt_top_state <-  apt_wrangled |>\n",
    "            group_by (state)|>\n",
    "            summarize(count = n())|>\n",
    "            arrange(desc(count))|>\n",
    "            slice(0:1)\n",
    "apt_top_state"
   ]
  },
  {
   "cell_type": "markdown",
   "id": "29b6f02b-b6d7-4079-889a-852fa0a06537",
   "metadata": {},
   "source": [
    "_Figure 3: The state with the highest count of monthly rentals_"
   ]
  },
  {
   "cell_type": "code",
   "execution_count": 14,
   "id": "dc258b77-7f4e-4023-863a-2c9bf89a2b28",
   "metadata": {},
   "outputs": [
    {
     "name": "stderr",
     "output_type": "stream",
     "text": [
      "\u001b[1m\u001b[22m`summarise()` has grouped output by 'state'. You can override using the\n",
      "`.groups` argument.\n"
     ]
    },
    {
     "data": {
      "text/html": [
       "<table class=\"dataframe\">\n",
       "<caption>A grouped_df: 3 × 3</caption>\n",
       "<thead>\n",
       "\t<tr><th scope=col>state</th><th scope=col>cityname</th><th scope=col>count</th></tr>\n",
       "\t<tr><th scope=col>&lt;chr&gt;</th><th scope=col>&lt;chr&gt;</th><th scope=col>&lt;int&gt;</th></tr>\n",
       "</thead>\n",
       "<tbody>\n",
       "\t<tr><td>TX</td><td>Dallas     </td><td>2798</td></tr>\n",
       "\t<tr><td>TX</td><td>San Antonio</td><td> 873</td></tr>\n",
       "\t<tr><td>TX</td><td>Houston    </td><td> 739</td></tr>\n",
       "</tbody>\n",
       "</table>\n"
      ],
      "text/latex": [
       "A grouped\\_df: 3 × 3\n",
       "\\begin{tabular}{lll}\n",
       " state & cityname & count\\\\\n",
       " <chr> & <chr> & <int>\\\\\n",
       "\\hline\n",
       "\t TX & Dallas      & 2798\\\\\n",
       "\t TX & San Antonio &  873\\\\\n",
       "\t TX & Houston     &  739\\\\\n",
       "\\end{tabular}\n"
      ],
      "text/markdown": [
       "\n",
       "A grouped_df: 3 × 3\n",
       "\n",
       "| state &lt;chr&gt; | cityname &lt;chr&gt; | count &lt;int&gt; |\n",
       "|---|---|---|\n",
       "| TX | Dallas      | 2798 |\n",
       "| TX | San Antonio |  873 |\n",
       "| TX | Houston     |  739 |\n",
       "\n"
      ],
      "text/plain": [
       "  state cityname    count\n",
       "1 TX    Dallas      2798 \n",
       "2 TX    San Antonio  873 \n",
       "3 TX    Houston      739 "
      ]
     },
     "metadata": {},
     "output_type": "display_data"
    }
   ],
   "source": [
    "#As for this line of code below, it is use to generate the top 3 cities with the highest count within the chosen state form the previous code.\n",
    "apt_texas_topcities <- apt_wrangled |>\n",
    "                    filter(state %in% apt_top_state)|>\n",
    "                    group_by(state, cityname)|>\n",
    "                    summarize(count = n())|>\n",
    "                    arrange(desc(count)) |>\n",
    "                    slice(0:3)\n",
    "apt_texas_topcities\n"
   ]
  },
  {
   "cell_type": "markdown",
   "id": "0d9ce11d-9382-4d18-af93-f18054ad5d51",
   "metadata": {},
   "source": [
    "_Figure 4: This table shows the top 3 cities (all urban cities) in Texas with the highest count of rental_"
   ]
  },
  {
   "cell_type": "code",
   "execution_count": 15,
   "id": "1175b48b-f31f-4e3e-b023-4baa4a2aea78",
   "metadata": {},
   "outputs": [
    {
     "data": {
      "text/html": [
       "<table class=\"dataframe\">\n",
       "<caption>A tibble: 6 × 7</caption>\n",
       "<thead>\n",
       "\t<tr><th scope=col>category</th><th scope=col>bathrooms</th><th scope=col>bedrooms</th><th scope=col>price</th><th scope=col>square_feet</th><th scope=col>cityname</th><th scope=col>state</th></tr>\n",
       "\t<tr><th scope=col>&lt;fct&gt;</th><th scope=col>&lt;dbl&gt;</th><th scope=col>&lt;dbl&gt;</th><th scope=col>&lt;dbl&gt;</th><th scope=col>&lt;dbl&gt;</th><th scope=col>&lt;chr&gt;</th><th scope=col>&lt;chr&gt;</th></tr>\n",
       "</thead>\n",
       "<tbody>\n",
       "\t<tr><td>Apartment</td><td>1</td><td>1</td><td>729</td><td>800</td><td>San Antonio</td><td>TX</td></tr>\n",
       "\t<tr><td>Apartment</td><td>1</td><td>1</td><td>975</td><td>615</td><td>San Antonio</td><td>TX</td></tr>\n",
       "\t<tr><td>Apartment</td><td>1</td><td>1</td><td>975</td><td>650</td><td>San Antonio</td><td>TX</td></tr>\n",
       "\t<tr><td>Apartment</td><td>1</td><td>1</td><td>945</td><td>530</td><td>San Antonio</td><td>TX</td></tr>\n",
       "\t<tr><td>Apartment</td><td>1</td><td>1</td><td>665</td><td>443</td><td>Houston    </td><td>TX</td></tr>\n",
       "\t<tr><td>Apartment</td><td>1</td><td>1</td><td>975</td><td>882</td><td>San Antonio</td><td>TX</td></tr>\n",
       "</tbody>\n",
       "</table>\n"
      ],
      "text/latex": [
       "A tibble: 6 × 7\n",
       "\\begin{tabular}{lllllll}\n",
       " category & bathrooms & bedrooms & price & square\\_feet & cityname & state\\\\\n",
       " <fct> & <dbl> & <dbl> & <dbl> & <dbl> & <chr> & <chr>\\\\\n",
       "\\hline\n",
       "\t Apartment & 1 & 1 & 729 & 800 & San Antonio & TX\\\\\n",
       "\t Apartment & 1 & 1 & 975 & 615 & San Antonio & TX\\\\\n",
       "\t Apartment & 1 & 1 & 975 & 650 & San Antonio & TX\\\\\n",
       "\t Apartment & 1 & 1 & 945 & 530 & San Antonio & TX\\\\\n",
       "\t Apartment & 1 & 1 & 665 & 443 & Houston     & TX\\\\\n",
       "\t Apartment & 1 & 1 & 975 & 882 & San Antonio & TX\\\\\n",
       "\\end{tabular}\n"
      ],
      "text/markdown": [
       "\n",
       "A tibble: 6 × 7\n",
       "\n",
       "| category &lt;fct&gt; | bathrooms &lt;dbl&gt; | bedrooms &lt;dbl&gt; | price &lt;dbl&gt; | square_feet &lt;dbl&gt; | cityname &lt;chr&gt; | state &lt;chr&gt; |\n",
       "|---|---|---|---|---|---|---|\n",
       "| Apartment | 1 | 1 | 729 | 800 | San Antonio | TX |\n",
       "| Apartment | 1 | 1 | 975 | 615 | San Antonio | TX |\n",
       "| Apartment | 1 | 1 | 975 | 650 | San Antonio | TX |\n",
       "| Apartment | 1 | 1 | 945 | 530 | San Antonio | TX |\n",
       "| Apartment | 1 | 1 | 665 | 443 | Houston     | TX |\n",
       "| Apartment | 1 | 1 | 975 | 882 | San Antonio | TX |\n",
       "\n"
      ],
      "text/plain": [
       "  category  bathrooms bedrooms price square_feet cityname    state\n",
       "1 Apartment 1         1        729   800         San Antonio TX   \n",
       "2 Apartment 1         1        975   615         San Antonio TX   \n",
       "3 Apartment 1         1        975   650         San Antonio TX   \n",
       "4 Apartment 1         1        945   530         San Antonio TX   \n",
       "5 Apartment 1         1        665   443         Houston     TX   \n",
       "6 Apartment 1         1        975   882         San Antonio TX   "
      ]
     },
     "metadata": {},
     "output_type": "display_data"
    }
   ],
   "source": [
    "#As we can see from the above line of code - we now know that Texas has to highest count of properties and and found its 3 corresponding cities\n",
    "#This line of code is use to pull the 3 city name we found from the tibble apt_texas_topcities and then select only the state Texas from our apt_wrangled data in order to create a tibble of our 3 urban cities in Texas.\n",
    "apt_texas_cities <- apt_wrangled |>\n",
    "                    filter(cityname %in% pull(apt_texas_topcities,cityname) & state == \"TX\")\n",
    "\n",
    "head(apt_texas_cities)\n",
    "                "
   ]
  },
  {
   "cell_type": "markdown",
   "id": "978e6a11-9457-455e-9a2b-7fb185887813",
   "metadata": {},
   "source": [
    "_Figure 5: The same dataset from figure 2 - however is filtered only for the state Texas and its top 3 urban cities_"
   ]
  },
  {
   "cell_type": "code",
   "execution_count": 16,
   "id": "712f1486-f7d2-4b0a-a32e-ce6a4f2a7524",
   "metadata": {},
   "outputs": [
    {
     "data": {
      "text/html": [
       "<table class=\"dataframe\">\n",
       "<caption>A tibble: 3 × 6</caption>\n",
       "<thead>\n",
       "\t<tr><th scope=col>cityname</th><th scope=col>num_observations</th><th scope=col>mean_bathrooms</th><th scope=col>mean_bedrooms</th><th scope=col>mean_square_feet</th><th scope=col>mean_price</th></tr>\n",
       "\t<tr><th scope=col>&lt;chr&gt;</th><th scope=col>&lt;int&gt;</th><th scope=col>&lt;dbl&gt;</th><th scope=col>&lt;dbl&gt;</th><th scope=col>&lt;dbl&gt;</th><th scope=col>&lt;dbl&gt;</th></tr>\n",
       "</thead>\n",
       "<tbody>\n",
       "\t<tr><td>Dallas     </td><td>2798</td><td>1.363474</td><td>1.480343</td><td>870.2423</td><td>1340.039</td></tr>\n",
       "\t<tr><td>Houston    </td><td> 739</td><td>1.302436</td><td>1.461434</td><td>869.0961</td><td>1091.018</td></tr>\n",
       "\t<tr><td>San Antonio</td><td> 873</td><td>1.430126</td><td>1.640321</td><td>936.6770</td><td>1111.101</td></tr>\n",
       "</tbody>\n",
       "</table>\n"
      ],
      "text/latex": [
       "A tibble: 3 × 6\n",
       "\\begin{tabular}{llllll}\n",
       " cityname & num\\_observations & mean\\_bathrooms & mean\\_bedrooms & mean\\_square\\_feet & mean\\_price\\\\\n",
       " <chr> & <int> & <dbl> & <dbl> & <dbl> & <dbl>\\\\\n",
       "\\hline\n",
       "\t Dallas      & 2798 & 1.363474 & 1.480343 & 870.2423 & 1340.039\\\\\n",
       "\t Houston     &  739 & 1.302436 & 1.461434 & 869.0961 & 1091.018\\\\\n",
       "\t San Antonio &  873 & 1.430126 & 1.640321 & 936.6770 & 1111.101\\\\\n",
       "\\end{tabular}\n"
      ],
      "text/markdown": [
       "\n",
       "A tibble: 3 × 6\n",
       "\n",
       "| cityname &lt;chr&gt; | num_observations &lt;int&gt; | mean_bathrooms &lt;dbl&gt; | mean_bedrooms &lt;dbl&gt; | mean_square_feet &lt;dbl&gt; | mean_price &lt;dbl&gt; |\n",
       "|---|---|---|---|---|---|\n",
       "| Dallas      | 2798 | 1.363474 | 1.480343 | 870.2423 | 1340.039 |\n",
       "| Houston     |  739 | 1.302436 | 1.461434 | 869.0961 | 1091.018 |\n",
       "| San Antonio |  873 | 1.430126 | 1.640321 | 936.6770 | 1111.101 |\n",
       "\n"
      ],
      "text/plain": [
       "  cityname    num_observations mean_bathrooms mean_bedrooms mean_square_feet\n",
       "1 Dallas      2798             1.363474       1.480343      870.2423        \n",
       "2 Houston      739             1.302436       1.461434      869.0961        \n",
       "3 San Antonio  873             1.430126       1.640321      936.6770        \n",
       "  mean_price\n",
       "1 1340.039  \n",
       "2 1091.018  \n",
       "3 1111.101  "
      ]
     },
     "metadata": {},
     "output_type": "display_data"
    }
   ],
   "source": [
    "#The following code is to produce a brief summary table of the data that we will analyze. This is created mainly to compare face value of the 3 cities.\n",
    "summary_table <- apt_texas_cities |>\n",
    "  group_by(cityname) |>\n",
    "  summarize(\n",
    "    num_observations = n(),\n",
    "    mean_bathrooms = mean(bathrooms),\n",
    "    mean_bedrooms = mean(bedrooms),\n",
    "    mean_square_feet = mean(square_feet, na.rm = TRUE),\n",
    "    mean_price = mean(price, na.rm = TRUE))\n",
    "  \n",
    "summary_table"
   ]
  },
  {
   "cell_type": "markdown",
   "id": "75ec386c-4792-409c-8659-bc9702ff01ed",
   "metadata": {},
   "source": [
    "_Figure 6: A summary table that contains the mean count of bathroom, bedrooms, and the mean price and square feet from our top 3 cities. The purpose is to have a quick look at the data that we are working with_"
   ]
  },
  {
   "cell_type": "markdown",
   "id": "8140d80f-7593-4e16-bfac-99d7dda9c66a",
   "metadata": {},
   "source": [
    "### Methods: Data Analysis"
   ]
  },
  {
   "cell_type": "code",
   "execution_count": null,
   "id": "08071e5b-8d26-4b68-8ee3-a14e638468ca",
   "metadata": {},
   "outputs": [],
   "source": []
  },
  {
   "cell_type": "code",
   "execution_count": null,
   "id": "af6b0402-98e3-40c0-88bf-0688ecf2d739",
   "metadata": {},
   "outputs": [],
   "source": []
  },
  {
   "cell_type": "code",
   "execution_count": null,
   "id": "93a95837-1f80-41d7-afdb-2c647559c5e3",
   "metadata": {},
   "outputs": [],
   "source": []
  },
  {
   "cell_type": "code",
   "execution_count": null,
   "id": "f30e7342-e660-48b5-b516-5f5e405efc78",
   "metadata": {},
   "outputs": [],
   "source": []
  },
  {
   "cell_type": "code",
   "execution_count": null,
   "id": "60635e02-9c0d-45a8-be0a-3e01ed804e6a",
   "metadata": {},
   "outputs": [],
   "source": []
  }
 ],
 "metadata": {
  "kernelspec": {
   "display_name": "R",
   "language": "R",
   "name": "ir"
  },
  "language_info": {
   "codemirror_mode": "r",
   "file_extension": ".r",
   "mimetype": "text/x-r-source",
   "name": "R",
   "pygments_lexer": "r",
   "version": "4.3.1"
  }
 },
 "nbformat": 4,
 "nbformat_minor": 5
}
